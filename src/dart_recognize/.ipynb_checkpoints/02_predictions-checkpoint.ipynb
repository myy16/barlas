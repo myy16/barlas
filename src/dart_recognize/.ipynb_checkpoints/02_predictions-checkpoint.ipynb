{
 "cells": [
  {
   "cell_type": "code",
   "execution_count": 26,
   "id": "ff3ecbcd-1853-4d69-ae9e-28624f56f73c",
   "metadata": {},
   "outputs": [],
   "source": [
    "import cv2\n",
    "from yolo_predictions import YOLO_Pred"
   ]
  },
  {
   "cell_type": "code",
   "execution_count": 27,
   "id": "5a609dab-a06d-4186-a0a7-61637a5da002",
   "metadata": {},
   "outputs": [],
   "source": [
    "yolo = YOLO_Pred('D:/yolo/yolo_object_detection/Model/weights/best.onnx', 'D:/yolo/yolo_object_detection/data.yaml')"
   ]
  },
  {
   "cell_type": "code",
   "execution_count": 28,
   "id": "ef3049c9-d25e-4059-ad68-aec14fa7dbbb",
   "metadata": {},
   "outputs": [],
   "source": [
    "img = cv2.imread('./predict2.jpg')\n",
    "\n",
    "cv2.imshow('img', img)\n",
    "cv2.waitKey(0)\n",
    "cv2.destroyAllWindows()"
   ]
  },
  {
   "cell_type": "code",
   "execution_count": 29,
   "id": "83fa5ac3-df94-4b7f-9d5d-192156e40129",
   "metadata": {},
   "outputs": [],
   "source": [
    "# predictions \n",
    "img_pred = yolo.predictions(img)"
   ]
  },
  {
   "cell_type": "code",
   "execution_count": 30,
   "id": "ef669c48-0940-41fb-93cf-d08139e4014b",
   "metadata": {},
   "outputs": [],
   "source": [
    "cv2.imshow('prediction_img', img)\n",
    "cv2.waitKey(0)\n",
    "cv2.destroyAllWindows()"
   ]
  },
  {
   "cell_type": "markdown",
   "id": "e175e772-93b9-4f70-af0a-c26f4ece850d",
   "metadata": {},
   "source": [
    "### Real Time Object Detection"
   ]
  },
  {
   "cell_type": "code",
   "execution_count": 31,
   "id": "4eb7e3a8-a623-4705-a119-f1290931ea1a",
   "metadata": {},
   "outputs": [
    {
     "data": {
      "text/plain": [
       "\"\\ncap =cv2.VideoCapture('video.mp4')\\n\\nwhile True: \\n    ret, frame = cap.read()\\n    if ret == False:\\n        print('unable to read video')\\n        break\\n\\n    pred_image = yolo.predictions(frame)\\n\\n    cv2.imshow('YOLO', pred_image)\\n    if cv2.waitKey(1) == q: \\n        break\\n\\ncv2.destroyAllWindows()\\ncap.release()                       \\n\""
      ]
     },
     "execution_count": 31,
     "metadata": {},
     "output_type": "execute_result"
    }
   ],
   "source": [
    "'''\n",
    "cap =cv2.VideoCapture('video.mp4')\n",
    "\n",
    "while True: \n",
    "    ret, frame = cap.read()\n",
    "    if ret == False:\n",
    "        print('unable to read video')\n",
    "        break\n",
    "\n",
    "    pred_image = yolo.predictions(frame)\n",
    "\n",
    "    cv2.imshow('YOLO', pred_image)\n",
    "    if cv2.waitKey(1) == q: \n",
    "        break\n",
    "\n",
    "cv2.destroyAllWindows()\n",
    "cap.release()                       \n",
    "''' "
   ]
  },
  {
   "cell_type": "code",
   "execution_count": 32,
   "id": "cdd53690-48e0-4332-850a-945294b9ca89",
   "metadata": {},
   "outputs": [
    {
     "ename": "AttributeError",
     "evalue": "'tuple' object has no attribute 'flatten'",
     "output_type": "error",
     "traceback": [
      "\u001b[1;31m---------------------------------------------------------------------------\u001b[0m",
      "\u001b[1;31mAttributeError\u001b[0m                            Traceback (most recent call last)",
      "Cell \u001b[1;32mIn[32], line 7\u001b[0m\n\u001b[0;32m      5\u001b[0m     \u001b[38;5;28mprint\u001b[39m(\u001b[38;5;124m'\u001b[39m\u001b[38;5;124mKameradan görüntü alınamadı\u001b[39m\u001b[38;5;124m'\u001b[39m)\n\u001b[0;32m      6\u001b[0m     \u001b[38;5;28;01mbreak\u001b[39;00m\n\u001b[1;32m----> 7\u001b[0m pred_image \u001b[38;5;241m=\u001b[39m \u001b[43myolo\u001b[49m\u001b[38;5;241;43m.\u001b[39;49m\u001b[43mpredictions\u001b[49m\u001b[43m(\u001b[49m\u001b[43mframe\u001b[49m\u001b[43m)\u001b[49m\n\u001b[0;32m      8\u001b[0m cv2\u001b[38;5;241m.\u001b[39mimshow(\u001b[38;5;124m'\u001b[39m\u001b[38;5;124mYOLO\u001b[39m\u001b[38;5;124m'\u001b[39m, pred_image)\n\u001b[0;32m      9\u001b[0m \u001b[38;5;28;01mif\u001b[39;00m cv2\u001b[38;5;241m.\u001b[39mwaitKey(\u001b[38;5;241m1\u001b[39m) \u001b[38;5;241m==\u001b[39m \u001b[38;5;28mord\u001b[39m(\u001b[38;5;124m'\u001b[39m\u001b[38;5;124mq\u001b[39m\u001b[38;5;124m'\u001b[39m):  \u001b[38;5;66;03m# ord('q') kullanın\u001b[39;00m\n",
      "File \u001b[1;32mD:\\yolo\\yolo_object_detection\\yolo_predictions.py:86\u001b[0m, in \u001b[0;36mYOLO_Pred.predictions\u001b[1;34m(self, image)\u001b[0m\n\u001b[0;32m     83\u001b[0m confidences_np \u001b[38;5;241m=\u001b[39m np\u001b[38;5;241m.\u001b[39marray(confidences)\u001b[38;5;241m.\u001b[39mtolist()\n\u001b[0;32m     85\u001b[0m \u001b[38;5;66;03m#NMS \u001b[39;00m\n\u001b[1;32m---> 86\u001b[0m index \u001b[38;5;241m=\u001b[39m \u001b[43mcv2\u001b[49m\u001b[38;5;241;43m.\u001b[39;49m\u001b[43mdnn\u001b[49m\u001b[38;5;241;43m.\u001b[39;49m\u001b[43mNMSBoxes\u001b[49m\u001b[43m(\u001b[49m\u001b[43mboxes_np\u001b[49m\u001b[43m,\u001b[49m\u001b[43m \u001b[49m\u001b[43mconfidences_np\u001b[49m\u001b[43m,\u001b[49m\u001b[43m \u001b[49m\u001b[38;5;241;43m0.25\u001b[39;49m\u001b[43m,\u001b[49m\u001b[43m \u001b[49m\u001b[38;5;241;43m0.45\u001b[39;49m\u001b[43m)\u001b[49m\u001b[38;5;241;43m.\u001b[39;49m\u001b[43mflatten\u001b[49m()\n\u001b[0;32m     89\u001b[0m \u001b[38;5;66;03m# Draw the bounding\u001b[39;00m\n\u001b[0;32m     90\u001b[0m \u001b[38;5;28;01mfor\u001b[39;00m ind \u001b[38;5;129;01min\u001b[39;00m index:\n\u001b[0;32m     91\u001b[0m     \u001b[38;5;66;03m#extract bounding box\u001b[39;00m\n",
      "\u001b[1;31mAttributeError\u001b[0m: 'tuple' object has no attribute 'flatten'"
     ]
    }
   ],
   "source": [
    "cap = cv2.VideoCapture(0)  # 0 = varsayılan kamera\n",
    "while True: \n",
    "    ret, frame = cap.read()\n",
    "    if ret == False:\n",
    "        print('Kameradan görüntü alınamadı')\n",
    "        break\n",
    "    pred_image = yolo.predictions(frame)\n",
    "    cv2.imshow('YOLO', pred_image)\n",
    "    if cv2.waitKey(1) == ord('q'):  # ord('q') kullanın\n",
    "        break\n",
    "cv2.destroyAllWindows()\n",
    "cap.release()"
   ]
  },
  {
   "cell_type": "code",
   "execution_count": null,
   "id": "ab143e51-b7e4-403d-b316-87d80466b558",
   "metadata": {},
   "outputs": [],
   "source": []
  }
 ],
 "metadata": {
  "kernelspec": {
   "display_name": "Python 3 (ipykernel)",
   "language": "python",
   "name": "python3"
  },
  "language_info": {
   "codemirror_mode": {
    "name": "ipython",
    "version": 3
   },
   "file_extension": ".py",
   "mimetype": "text/x-python",
   "name": "python",
   "nbconvert_exporter": "python",
   "pygments_lexer": "ipython3",
   "version": "3.9.23"
  }
 },
 "nbformat": 4,
 "nbformat_minor": 5
}
